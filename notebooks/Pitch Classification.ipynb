{
 "cells": [
  {
   "cell_type": "code",
   "execution_count": 1,
   "metadata": {},
   "outputs": [
    {
     "name": "stderr",
     "output_type": "stream",
     "text": [
      "/Users/cfonnesbeck/anaconda3/envs/dev/lib/python3.7/site-packages/dask/config.py:168: YAMLLoadWarning: calling yaml.load() without Loader=... is deprecated, as the default Loader is unsafe. Please read https://msg.pyyaml.org/load for full details.\n",
      "  data = yaml.load(f.read()) or {}\n",
      "/Users/cfonnesbeck/anaconda3/envs/dev/lib/python3.7/site-packages/distributed/config.py:20: YAMLLoadWarning: calling yaml.load() without Loader=... is deprecated, as the default Loader is unsafe. Please read https://msg.pyyaml.org/load for full details.\n",
      "  defaults = yaml.load(f)\n"
     ]
    }
   ],
   "source": [
    "%matplotlib inline\n",
    "import pandas as pd\n",
    "import numpy as np\n",
    "import seaborn as sns\n",
    "import pymc3 as pm\n",
    "import matplotlib.pyplot as plt\n",
    "\n",
    "RANDOM_SEEDS = 8965, 197009"
   ]
  },
  {
   "cell_type": "markdown",
   "metadata": {},
   "source": [
    "---\n",
    "\n",
    "# Question 3\n",
    "\n",
    "The accompanying CSV files ‘pitchclassificationtrain.csv’ and ‘pitchclassificationtest.csv’ contain information from nearly 20,000 pitches from five different pitchers over three years. There are 13 columns:\n",
    "\n",
    "- `pitchid`: a unique identifier for each pitch.\n",
    "- `pitcherid`: identity of the pitcher (1-5). The identities are the same in both datasets.  \t\tPitcher 3 in the training set is the same pitcher as Pitcher 3 in the test set.\n",
    "- `yearid`: year in which the pitch occurred (1-3).\n",
    "- `throws`: handedness of the pitcher, where 1 = right-handed and 2 = left-handed\n",
    "- `height`: height in inches of the pitcher.\n",
    "- `initspeed`: initial speed of the pitch as it leaves the pitcher's hand, reported in MPH\n",
    "- `breakx`: horizontal distance in inches between where a pitch crossed the plate and where a hypothetical spinless pitch would have, where negative is inside to a right-handed hitter.\n",
    "- `breakz`: vertical distance in inches between where a pitch crossed the plate and where a hypothetical spinless pitch would have, where negative is closer to the ground.\n",
    "- `initposx`: horizontal position of the release point of the pitch. The position is measured in feet from the center of the rubber when the pitch is released, where negative is towards the third-base side of the rubber.\n",
    "- `initposz`: vertical position of the release point of the pitch.  The position is measured in feet above the ground.\n",
    "- `extension`: distance in feet in front of the pitching rubber from which the pitcher releases the ball.\n",
    "- `spinrate`: how fast the ball is spinning as it leaves the pitcher's hand, reported in RPM\n",
    "- `type`: type of pitch that was thrown (will only appear in the training dataset).\n",
    "\n",
    "Your goal is to give the most likely pitch type for all of the pitches in the test dataset using information from the training dataset. Note that the pitchers in the datasets do not correspond with any specific real pitchers but are meant to be representative of real data. Please include the following with your final submission:\n",
    "\n",
    "1.\tCSV with two columns: the pitchid and the corresponding predicted pitch type\n",
    "2.\twrite-up of your method and results, including any tables or figures that help communicate your findings\n",
    "3.\tall code used to solve the problem"
   ]
  },
  {
   "cell_type": "markdown",
   "metadata": {},
   "source": [
    "\n",
    "This is a multi-class classification problem. One approach is to use a parametric statistical model, and express the pitch class as a categorical outcome. However, this requires the explicit specification of the combinations of variables thought to be predictive of pitch type *a priori*. A more flexible approach, and an effective one when plenty of data are available (as we have here), is to use an ensemble machine learning algorithm. A key advantage of such methods is that higher-order interactions among variables that may be powerful predictors can be discovered automatically, without pre-specification. \n",
    "\n",
    "An effective ensemble method for classification is **gradient boosting**. Boosting combines a set of \"weak\" learners (ones that, individually, perform only slightly better than chance) to a yield a system with very high predictive performance. The idea is that by sequentially applying very fast, simple models, we can get a total model error which is better than any of the individual pieces. Each successive fit to a new weak learner yields and estimate of residual error, which is used to weight the remaining observations such that the next learner emphasizes the classification of observations that have not yet been correctly classified. The process is stagewise, meaning that existing trees are left unchanged as the model is enlarged. Only the fitted value for each observation is re-estimated at each step to reflect the contribution of the newly added tree. The final model is a linear combination of many trees (usually hundreds to thousands) that can be thought of as a classification/regression model where each term itself is a tree.\n",
    "\n",
    "On average, boosting outperforms competing algorithms like random forests or support vector machines, but requires less data than deep neural networks, which are often applied to large classification tasks.\n",
    "\n",
    "[XGBoost](https://arxiv.org/abs/1603.02754) is an open-source, high-performance implementation of gradient boosting methods for decision trees. It features natively-parallel tree construction, out-of-core computation, and cache optimization, and is readily deployable on clusters. It typically offers better speed and performance relative to `scikit-learn` and other comparable libraries."
   ]
  },
  {
   "cell_type": "markdown",
   "metadata": {},
   "source": [
    "Import data from csv files."
   ]
  },
  {
   "cell_type": "code",
   "execution_count": 4,
   "metadata": {},
   "outputs": [
    {
     "name": "stdout",
     "output_type": "stream",
     "text": [
      "This is a large query, it may take a moment to complete\n",
      "Completed sub-query from 2017-04-01 to 2017-04-05\n",
      "Completed sub-query from 2017-04-06 to 2017-04-06\n",
      "Completed sub-query from 2017-04-07 to 2017-04-12\n",
      "Completed sub-query from 2017-04-13 to 2017-04-18\n",
      "Completed sub-query from 2017-04-19 to 2017-04-24\n",
      "Completed sub-query from 2017-04-25 to 2017-04-30\n"
     ]
    }
   ],
   "source": [
    "from pybaseball import statcast\n",
    "\n",
    "pitch_data = statcast(start_dt='2017-04-01', end_dt='2017-04-30')"
   ]
  },
  {
   "cell_type": "code",
   "execution_count": 5,
   "metadata": {
    "scrolled": true
   },
   "outputs": [
    {
     "data": {
      "text/plain": [
       "(108785, 79)"
      ]
     },
     "execution_count": 5,
     "metadata": {},
     "output_type": "execute_result"
    }
   ],
   "source": [
    "pitch_data.shape"
   ]
  },
  {
   "cell_type": "code",
   "execution_count": 12,
   "metadata": {},
   "outputs": [
    {
     "data": {
      "text/plain": [
       "FF    25503\n",
       "SL    11794\n",
       "FT     9566\n",
       "CH     7474\n",
       "CU     5422\n",
       "SI     5004\n",
       "FC     3846\n",
       "KC     1734\n",
       "FS     1239\n",
       "KN      371\n",
       "FO       38\n",
       "EP       18\n",
       "PO        8\n",
       "SC        4\n",
       "AB        2\n",
       "UN        1\n",
       "Name: pitch_type, dtype: int64"
      ]
     },
     "execution_count": 12,
     "metadata": {},
     "output_type": "execute_result"
    }
   ],
   "source": [
    "pitch_data.pitch_type.value_counts()"
   ]
  },
  {
   "cell_type": "code",
   "execution_count": 7,
   "metadata": {},
   "outputs": [],
   "source": [
    "pitch_type = pitch_data.pop('pitch_type')"
   ]
  },
  {
   "cell_type": "code",
   "execution_count": 8,
   "metadata": {},
   "outputs": [],
   "source": [
    "from sklearn.model_selection import train_test_split\n",
    "\n",
    "X_train, X_test, y_train, y_test = train_test_split(\n",
    "                    pitch_data, pitch_type, test_size=0.33, random_state=42)"
   ]
  },
  {
   "cell_type": "markdown",
   "metadata": {},
   "source": [
    "Extract columns to be used for prediction. Pitcher and year are probably not predictive, so I am leaving them out."
   ]
  },
  {
   "cell_type": "code",
   "execution_count": 11,
   "metadata": {},
   "outputs": [],
   "source": [
    "prediction_cols = ['p_throws', 'release_spin_rate', 'effective_speed', 'release_extension',\n",
    "                   'vx0', 'vy0', 'vz0', 'ax', 'ay', 'az']"
   ]
  },
  {
   "cell_type": "markdown",
   "metadata": {},
   "source": [
    "Relabel pitch types using the `scikit-learn` label encoder (XGboost requires sequential labels)."
   ]
  },
  {
   "cell_type": "code",
   "execution_count": 37,
   "metadata": {},
   "outputs": [],
   "source": [
    "from sklearn.preprocessing import LabelEncoder\n",
    "\n",
    "encoder = LabelEncoder().fit(y_train)\n",
    "y_train_encoded = encoder.transform(y_train)"
   ]
  },
  {
   "cell_type": "markdown",
   "metadata": {},
   "source": [
    "XGBoost runs faster using its own binary data structures:"
   ]
  },
  {
   "cell_type": "code",
   "execution_count": 38,
   "metadata": {},
   "outputs": [
    {
     "name": "stderr",
     "output_type": "stream",
     "text": [
      "/Users/fonnescj/anaconda3/envs/dev/lib/python3.6/site-packages/sklearn/cross_validation.py:44: DeprecationWarning: This module was deprecated in version 0.18 in favor of the model_selection module into which all the refactored classes and functions are moved. Also note that the interface of the new CV iterators are different from that of this module. This module will be removed in 0.20.\n",
      "  \"This module will be removed in 0.20.\", DeprecationWarning)\n"
     ]
    }
   ],
   "source": [
    "import xgboost as xgb\n",
    "\n",
    "dtrain = xgb.DMatrix(X_train[prediction_cols], label=y_train_encoded)\n",
    "dtest = xgb.DMatrix(X_test[prediction_cols])"
   ]
  },
  {
   "cell_type": "markdown",
   "metadata": {},
   "source": [
    "We can specify the hyperparameters of the model, to use as a starting point for the analysis."
   ]
  },
  {
   "cell_type": "code",
   "execution_count": 39,
   "metadata": {},
   "outputs": [],
   "source": [
    "xgb_params = {\n",
    "    'max_depth': 12,  \n",
    "    'eta': 0.2, \n",
    "    'nthread': 4,                # Use 4 cores for multiprocessing\n",
    "    'num_class': 6,              # pitch types\n",
    "    'objective': 'multi:softmax' # use softmax multi-class classification\n",
    "}"
   ]
  },
  {
   "cell_type": "code",
   "execution_count": 40,
   "metadata": {},
   "outputs": [],
   "source": [
    "boosted_classifier = xgb.train(xgb_params, dtrain, num_boost_round=30)"
   ]
  },
  {
   "cell_type": "markdown",
   "metadata": {},
   "source": [
    "Using arbitrarily-chosen hyperparemeters, the model achieves nearly perfect accuracy on the training set."
   ]
  },
  {
   "cell_type": "code",
   "execution_count": 41,
   "metadata": {},
   "outputs": [
    {
     "data": {
      "text/plain": [
       "0.99889478337754201"
      ]
     },
     "execution_count": 41,
     "metadata": {},
     "output_type": "execute_result"
    }
   ],
   "source": [
    "from sklearn.metrics import accuracy_score\n",
    "\n",
    "predictions = boosted_classifier.predict(dtrain)\n",
    "accuracy_score(y_train_encoded, predictions)"
   ]
  },
  {
   "cell_type": "markdown",
   "metadata": {},
   "source": [
    "However, this model may be overfit to the training dataset, so I am going to use 5-fold cross-validation to select hyperparameters that result in the best fit."
   ]
  },
  {
   "cell_type": "code",
   "execution_count": 57,
   "metadata": {},
   "outputs": [],
   "source": [
    "param_grid = [(max_depth, min_child_weight, eta) for max_depth in (6, 8, 10, 12) \n",
    "                                                 for min_child_weight in (7, 9, 11, 13)\n",
    "                                                 for eta in (0.15, 0.2, 0.25)]"
   ]
  },
  {
   "cell_type": "code",
   "execution_count": 58,
   "metadata": {},
   "outputs": [
    {
     "name": "stdout",
     "output_type": "stream",
     "text": [
      "CV with max_depth=6, min_child_weight=7, eta=0.15\n",
      "\tmerror 0.051363400000000003 for 35 rounds\n",
      "CV with max_depth=6, min_child_weight=7, eta=0.2\n",
      "\tmerror 0.051878999999999995 for 18 rounds\n",
      "CV with max_depth=6, min_child_weight=7, eta=0.25\n",
      "\tmerror 0.051289600000000005 for 21 rounds\n",
      "CV with max_depth=6, min_child_weight=9, eta=0.15\n",
      "\tmerror 0.0517316 for 28 rounds\n",
      "CV with max_depth=6, min_child_weight=9, eta=0.2\n",
      "\tmerror 0.051289600000000005 for 19 rounds\n",
      "CV with max_depth=6, min_child_weight=9, eta=0.25\n",
      "\tmerror 0.052026399999999993 for 17 rounds\n",
      "CV with max_depth=6, min_child_weight=11, eta=0.15\n",
      "\tmerror 0.0535002 for 25 rounds\n",
      "CV with max_depth=6, min_child_weight=11, eta=0.2\n",
      "\tmerror 0.052395199999999996 for 17 rounds\n",
      "CV with max_depth=6, min_child_weight=11, eta=0.25\n",
      "\tmerror 0.05128959999999999 for 19 rounds\n",
      "CV with max_depth=6, min_child_weight=13, eta=0.15\n",
      "\tmerror 0.052026800000000005 for 31 rounds\n",
      "CV with max_depth=6, min_child_weight=13, eta=0.2\n",
      "\tmerror 0.05099479999999999 for 28 rounds\n",
      "CV with max_depth=6, min_child_weight=13, eta=0.25\n",
      "\tmerror 0.0517316 for 17 rounds\n",
      "CV with max_depth=8, min_child_weight=7, eta=0.15\n",
      "\tmerror 0.05239499999999999 for 7 rounds\n",
      "CV with max_depth=8, min_child_weight=7, eta=0.2\n",
      "\tmerror 0.05047900000000001 for 16 rounds\n",
      "CV with max_depth=8, min_child_weight=7, eta=0.25\n",
      "\tmerror 0.0501104 for 16 rounds\n",
      "CV with max_depth=8, min_child_weight=9, eta=0.15\n",
      "\tmerror 0.0493 for 25 rounds\n",
      "CV with max_depth=8, min_child_weight=9, eta=0.2\n",
      "\tmerror 0.050036800000000006 for 19 rounds\n",
      "CV with max_depth=8, min_child_weight=9, eta=0.25\n",
      "\tmerror 0.0507 for 16 rounds\n",
      "CV with max_depth=8, min_child_weight=11, eta=0.15\n",
      "\tmerror 0.05283720000000001 for 12 rounds\n",
      "CV with max_depth=8, min_child_weight=11, eta=0.2\n",
      "\tmerror 0.0503316 for 20 rounds\n",
      "CV with max_depth=8, min_child_weight=11, eta=0.25\n",
      "\tmerror 0.0501842 for 24 rounds\n",
      "CV with max_depth=8, min_child_weight=13, eta=0.15\n",
      "\tmerror 0.0507738 for 24 rounds\n",
      "CV with max_depth=8, min_child_weight=13, eta=0.2\n",
      "\tmerror 0.050405200000000004 for 16 rounds\n",
      "CV with max_depth=8, min_child_weight=13, eta=0.25\n",
      "\tmerror 0.051584399999999996 for 12 rounds\n",
      "CV with max_depth=10, min_child_weight=7, eta=0.15\n",
      "\tmerror 0.0515106 for 8 rounds\n",
      "CV with max_depth=10, min_child_weight=7, eta=0.2\n",
      "\tmerror 0.0508474 for 13 rounds\n",
      "CV with max_depth=10, min_child_weight=7, eta=0.25\n",
      "\tmerror 0.0515108 for 9 rounds\n",
      "CV with max_depth=10, min_child_weight=9, eta=0.15\n",
      "\tmerror 0.0523212 for 11 rounds\n",
      "CV with max_depth=10, min_child_weight=9, eta=0.2\n",
      "\tmerror 0.0490788 for 22 rounds\n",
      "CV with max_depth=10, min_child_weight=9, eta=0.25\n",
      "\tmerror 0.0521002 for 6 rounds\n",
      "CV with max_depth=10, min_child_weight=11, eta=0.15\n",
      "\tmerror 0.052911 for 9 rounds\n",
      "CV with max_depth=10, min_child_weight=11, eta=0.2\n",
      "\tmerror 0.052174 for 9 rounds\n",
      "CV with max_depth=10, min_child_weight=11, eta=0.25\n",
      "\tmerror 0.050478999999999996 for 17 rounds\n",
      "CV with max_depth=10, min_child_weight=13, eta=0.15\n",
      "\tmerror 0.0543844 for 5 rounds\n",
      "CV with max_depth=10, min_child_weight=13, eta=0.2\n",
      "\tmerror 0.0518058 for 14 rounds\n",
      "CV with max_depth=10, min_child_weight=13, eta=0.25\n",
      "\tmerror 0.051289600000000005 for 9 rounds\n",
      "CV with max_depth=12, min_child_weight=7, eta=0.15\n",
      "\tmerror 0.049741999999999995 for 22 rounds\n",
      "CV with max_depth=12, min_child_weight=7, eta=0.2\n",
      "\tmerror 0.0510686 for 10 rounds\n",
      "CV with max_depth=12, min_child_weight=7, eta=0.25\n",
      "\tmerror 0.0521 for 4 rounds\n",
      "CV with max_depth=12, min_child_weight=9, eta=0.15\n",
      "\tmerror 0.05224759999999999 for 8 rounds\n",
      "CV with max_depth=12, min_child_weight=9, eta=0.2\n",
      "\tmerror 0.05180559999999999 for 5 rounds\n",
      "CV with max_depth=12, min_child_weight=9, eta=0.25\n",
      "\tmerror 0.051658 for 5 rounds\n",
      "CV with max_depth=12, min_child_weight=11, eta=0.15\n",
      "\tmerror 0.051142200000000006 for 14 rounds\n",
      "CV with max_depth=12, min_child_weight=11, eta=0.2\n",
      "\tmerror 0.05055259999999999 for 16 rounds\n",
      "CV with max_depth=12, min_child_weight=11, eta=0.25\n",
      "\tmerror 0.0507738 for 14 rounds\n",
      "CV with max_depth=12, min_child_weight=13, eta=0.15\n",
      "\tmerror 0.052615999999999996 for 8 rounds\n",
      "CV with max_depth=12, min_child_weight=13, eta=0.2\n",
      "\tmerror 0.050700199999999994 for 14 rounds\n",
      "CV with max_depth=12, min_child_weight=13, eta=0.25\n",
      "\tmerror 0.050036800000000006 for 21 rounds\n",
      "Best params: 10, 9, 0.2, merror: 0.0490788\n"
     ]
    }
   ],
   "source": [
    "min_merror = np.inf\n",
    "best_params = None\n",
    "\n",
    "for max_depth, min_child_weight, eta in param_grid:\n",
    "    print(\"CV with max_depth={}, min_child_weight={}, eta={}\".format(\n",
    "                             max_depth,\n",
    "                             min_child_weight,\n",
    "                             eta))\n",
    "\n",
    "    # Update our parameters\n",
    "    xgb_params['max_depth'] = max_depth\n",
    "    xgb_params['min_child_weight'] = min_child_weight\n",
    "    xgb_params['eta'] = eta\n",
    "\n",
    "    # Run CV\n",
    "    cv_results = xgb.cv(\n",
    "        xgb_params,\n",
    "        dtrain,\n",
    "        num_boost_round=50,\n",
    "        nfold=5,\n",
    "        metrics={'merror'}, \n",
    "        early_stopping_rounds=3\n",
    "    )\n",
    "\n",
    "    # Update best score\n",
    "    mean_merror = cv_results['test-merror-mean'].min()\n",
    "    boost_rounds = cv_results['test-merror-mean'].idxmin()\n",
    "    print(\"\\tmerror {} for {} rounds\".format(mean_merror, boost_rounds))\n",
    "    if mean_merror < min_merror:\n",
    "        min_merror = mean_merror\n",
    "        best_params = (max_depth, min_child_weight, eta)\n",
    "\n",
    "print(\"Best params: {}, {}, {}, merror: {}\".format(best_params[0], best_params[1], best_params[2], min_merror))"
   ]
  },
  {
   "cell_type": "markdown",
   "metadata": {},
   "source": [
    "I can select the best parameters from the cross-validation procedure to use to predict on the test data (I could do a more refined search of the hyperparameter space, but the multiclass errors appear to be broadly similar across the range of values that I used, so I will stick with these)."
   ]
  },
  {
   "cell_type": "code",
   "execution_count": 61,
   "metadata": {},
   "outputs": [],
   "source": [
    "xgb_params = {\n",
    "    'max_depth': 10,  \n",
    "    'eta': 0.2, \n",
    "    'min_child_weight': 9,       # minimum sum of instance weight needed in a child \n",
    "    'nthread': 4,                # use 4 cores for multiprocessing\n",
    "    'num_class': 6,              # pitch types\n",
    "    'objective': 'multi:softmax' # use softmax multi-class classification\n",
    "}"
   ]
  },
  {
   "cell_type": "code",
   "execution_count": 62,
   "metadata": {},
   "outputs": [],
   "source": [
    "boosted_classifier = xgb.train(xgb_params, dtrain, num_boost_round=30)"
   ]
  },
  {
   "cell_type": "markdown",
   "metadata": {},
   "source": [
    "The accuracy score for the training data is nominally lower than the original model, but not much; moreover this model should perform better in out-of-sample prediction."
   ]
  },
  {
   "cell_type": "code",
   "execution_count": 63,
   "metadata": {},
   "outputs": [
    {
     "data": {
      "text/plain": [
       "0.97782198644267615"
      ]
     },
     "execution_count": 63,
     "metadata": {},
     "output_type": "execute_result"
    }
   ],
   "source": [
    "from sklearn.metrics import accuracy_score\n",
    "\n",
    "predictions = boosted_classifier.predict(dtrain)\n",
    "accuracy_score(y_train_encoded, predictions)"
   ]
  },
  {
   "cell_type": "markdown",
   "metadata": {},
   "source": [
    "Below is a plot of feature importances, using the F-score. This quantifies how many times a particular variable is used as a splitting variable across all the trees. This ranking makes intiutive sense, with movement and velocity being the most relevant factors."
   ]
  },
  {
   "cell_type": "code",
   "execution_count": 64,
   "metadata": {},
   "outputs": [
    {
     "data": {
      "text/plain": [
       "<matplotlib.axes._subplots.AxesSubplot at 0x120655e80>"
      ]
     },
     "execution_count": 64,
     "metadata": {},
     "output_type": "execute_result"
    },
    {
     "data": {
      "image/png": "[encoded data removed]",
      "text/plain": [
       "<matplotlib.figure.Figure at 0x121c25dd8>"
      ]
     },
     "metadata": {},
     "output_type": "display_data"
    }
   ],
   "source": [
    "xgb.plot_importance(boosted_classifier)"
   ]
  },
  {
   "cell_type": "markdown",
   "metadata": {},
   "source": [
    "Generate predictions on the test set using fitted classifier."
   ]
  },
  {
   "cell_type": "code",
   "execution_count": 65,
   "metadata": {},
   "outputs": [],
   "source": [
    "test_predictions = boosted_classifier.predict(dtest)"
   ]
  },
  {
   "cell_type": "code",
   "execution_count": 66,
   "metadata": {},
   "outputs": [
    {
     "data": {
      "text/plain": [
       "array([ 5.,  1.,  5., ...,  1.,  3.,  1.], dtype=float32)"
      ]
     },
     "execution_count": 66,
     "metadata": {},
     "output_type": "execute_result"
    }
   ],
   "source": [
    "test_predictions"
   ]
  },
  {
   "cell_type": "markdown",
   "metadata": {},
   "source": [
    "Back-transform label encoding, and export to `predicted_pitches_fonnesbeck.csv`."
   ]
  },
  {
   "cell_type": "code",
   "execution_count": 67,
   "metadata": {},
   "outputs": [],
   "source": [
    "predicted_pitches = pd.Series(encoder.inverse_transform(test_predictions.astype(int)), index=X_test.index)\n",
    "predicted_pitches.name = 'pitch_type'\n",
    "predicted_pitches.index.name = 'pitchid'\n",
    "predicted_pitches.to_csv('predicted_pitches_fonnesbeck.csv', header=True)"
   ]
  }
 ],
 "metadata": {
  "_draft": {
   "nbviewer_url": "https://gist.github.com/44fc0a43e6b658e7dc87365ad03c8548"
  },
  "gist": {
   "data": {
    "description": "Yankees Questionnaire.ipynb",
    "public": false
   },
   "id": "44fc0a43e6b658e7dc87365ad03c8548"
  },
  "kernelspec": {
   "display_name": "Python 3",
   "language": "python",
   "name": "python3"
  },
  "language_info": {
   "codemirror_mode": {
    "name": "ipython",
    "version": 3
   },
   "file_extension": ".py",
   "mimetype": "text/x-python",
   "name": "python",
   "nbconvert_exporter": "python",
   "pygments_lexer": "ipython3",
   "version": "3.7.3"
  }
 },
 "nbformat": 4,
 "nbformat_minor": 2
}
